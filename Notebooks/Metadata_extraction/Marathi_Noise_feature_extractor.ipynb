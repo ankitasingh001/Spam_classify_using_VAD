{
  "nbformat": 4,
  "nbformat_minor": 0,
  "metadata": {
    "colab": {
      "name": "Marathi_Noise_feature_extractor.ipynb",
      "provenance": [],
      "collapsed_sections": []
    },
    "kernelspec": {
      "name": "python3",
      "display_name": "Python 3"
    },
    "language_info": {
      "name": "python"
    }
  },
  "cells": [
    {
      "cell_type": "code",
      "metadata": {
        "colab": {
          "base_uri": "https://localhost:8080/"
        },
        "id": "QLA528y7v7uG",
        "outputId": "ed03ec9c-a89e-4e11-9820-859dd78c18c4"
      },
      "source": [
        "!pip install torchaudio"
      ],
      "execution_count": null,
      "outputs": [
        {
          "output_type": "stream",
          "text": [
            "Collecting torchaudio\n",
            "\u001b[?25l  Downloading https://files.pythonhosted.org/packages/aa/55/01ad9244bcd595e39cea5ce30726a7fe02fd963d07daeb136bfe7e23f0a5/torchaudio-0.8.1-cp37-cp37m-manylinux1_x86_64.whl (1.9MB)\n",
            "\u001b[K     |████████████████████████████████| 1.9MB 8.1MB/s \n",
            "\u001b[?25hRequirement already satisfied: torch==1.8.1 in /usr/local/lib/python3.7/dist-packages (from torchaudio) (1.8.1+cu101)\n",
            "Requirement already satisfied: numpy in /usr/local/lib/python3.7/dist-packages (from torch==1.8.1->torchaudio) (1.19.5)\n",
            "Requirement already satisfied: typing-extensions in /usr/local/lib/python3.7/dist-packages (from torch==1.8.1->torchaudio) (3.7.4.3)\n",
            "Installing collected packages: torchaudio\n",
            "Successfully installed torchaudio-0.8.1\n"
          ],
          "name": "stdout"
        }
      ]
    },
    {
      "cell_type": "code",
      "metadata": {
        "colab": {
          "base_uri": "https://localhost:8080/"
        },
        "id": "1RQd6udXoKUY",
        "outputId": "476a527d-0362-4fa7-996e-8a910815b3e0"
      },
      "source": [
        "from google.colab import drive\n",
        "drive.mount('/content/drive')"
      ],
      "execution_count": null,
      "outputs": [
        {
          "output_type": "stream",
          "text": [
            "Mounted at /content/drive\n"
          ],
          "name": "stdout"
        }
      ]
    },
    {
      "cell_type": "code",
      "metadata": {
        "id": "cRs9bB6LqQ-Y"
      },
      "source": [
        "import torch\n",
        "from torch.utils.data import Dataset, DataLoader\n",
        "import csv\n",
        "import pandas as pd\n",
        "import numpy as np\n",
        "import librosa\n",
        "import os,sys\n",
        "import torchaudio"
      ],
      "execution_count": null,
      "outputs": []
    },
    {
      "cell_type": "code",
      "metadata": {
        "id": "Y6Brv_jApwLu"
      },
      "source": [
        "ROOT_PATH='./drive/MyDrive/ASR_Project_Shared/'\n",
        "\n",
        "## Creating a softlink to drive root, easy for relative addressing\n",
        "\n",
        "\n",
        "nb_path = './final_data'\n",
        "os.symlink(ROOT_PATH+'final_data', nb_path)\n",
        "sys.path.insert(0, nb_path) \n",
        "\n",
        "nb_path = './metadata_marathi_plus_noise.csv'\n",
        "os.symlink(ROOT_PATH+'metadata_marathi_plus_noise.csv', nb_path)\n",
        "sys.path.insert(0, nb_path) "
      ],
      "execution_count": null,
      "outputs": []
    },
    {
      "cell_type": "code",
      "metadata": {
        "id": "Q4JVT9A40gEa"
      },
      "source": [
        "## Here Entire data is to be used for Test set (I guess) ##\n",
        "# train_frac = 0.8\n",
        "\n",
        "data = pd.read_csv('metadata_marathi_plus_noise.csv')\n",
        "data = data.reindex(np.random.permutation(data.index)) ##This just randomly shuffles the rows\n",
        "\n",
        "# msk = np.random.rand(len(data)) < train_frac\n",
        "# train_data = data[msk]\n",
        "# test_data = data[~msk]"
      ],
      "execution_count": null,
      "outputs": []
    },
    {
      "cell_type": "code",
      "metadata": {
        "id": "1e9HuKTrS6eE",
        "colab": {
          "base_uri": "https://localhost:8080/",
          "height": 419
        },
        "outputId": "50d93c78-83de-4abc-87e1-88b48c6168e9"
      },
      "source": [
        "data"
      ],
      "execution_count": null,
      "outputs": [
        {
          "output_type": "execute_result",
          "data": {
            "text/html": [
              "<div>\n",
              "<style scoped>\n",
              "    .dataframe tbody tr th:only-of-type {\n",
              "        vertical-align: middle;\n",
              "    }\n",
              "\n",
              "    .dataframe tbody tr th {\n",
              "        vertical-align: top;\n",
              "    }\n",
              "\n",
              "    .dataframe thead th {\n",
              "        text-align: right;\n",
              "    }\n",
              "</style>\n",
              "<table border=\"1\" class=\"dataframe\">\n",
              "  <thead>\n",
              "    <tr style=\"text-align: right;\">\n",
              "      <th></th>\n",
              "      <th>file_path</th>\n",
              "      <th>label</th>\n",
              "    </tr>\n",
              "  </thead>\n",
              "  <tbody>\n",
              "    <tr>\n",
              "      <th>1070</th>\n",
              "      <td>./final_data/noise/HOME-KITCHEN-1_trim_5s_61.wav</td>\n",
              "      <td>0</td>\n",
              "    </tr>\n",
              "    <tr>\n",
              "      <th>526</th>\n",
              "      <td>./final_data/marathi/127778_1.wav</td>\n",
              "      <td>1</td>\n",
              "    </tr>\n",
              "    <tr>\n",
              "      <th>455</th>\n",
              "      <td>./final_data/marathi/128123_1.wav</td>\n",
              "      <td>1</td>\n",
              "    </tr>\n",
              "    <tr>\n",
              "      <th>102</th>\n",
              "      <td>./final_data/marathi/127590_1.wav</td>\n",
              "      <td>1</td>\n",
              "    </tr>\n",
              "    <tr>\n",
              "      <th>866</th>\n",
              "      <td>./final_data/noise/STREET-CITY-2_trim_5s_8.wav</td>\n",
              "      <td>0</td>\n",
              "    </tr>\n",
              "    <tr>\n",
              "      <th>...</th>\n",
              "      <td>...</td>\n",
              "      <td>...</td>\n",
              "    </tr>\n",
              "    <tr>\n",
              "      <th>706</th>\n",
              "      <td>./final_data/marathi/126877_2.wav</td>\n",
              "      <td>1</td>\n",
              "    </tr>\n",
              "    <tr>\n",
              "      <th>106</th>\n",
              "      <td>./final_data/marathi/127827_2.wav</td>\n",
              "      <td>1</td>\n",
              "    </tr>\n",
              "    <tr>\n",
              "      <th>1134</th>\n",
              "      <td>./final_data/noise/HOME-KITCHEN-1_trim_5s_125.wav</td>\n",
              "      <td>0</td>\n",
              "    </tr>\n",
              "    <tr>\n",
              "      <th>1063</th>\n",
              "      <td>./final_data/noise/HOME-KITCHEN-1_trim_5s_54.wav</td>\n",
              "      <td>0</td>\n",
              "    </tr>\n",
              "    <tr>\n",
              "      <th>564</th>\n",
              "      <td>./final_data/marathi/127813_2.wav</td>\n",
              "      <td>1</td>\n",
              "    </tr>\n",
              "  </tbody>\n",
              "</table>\n",
              "<p>1318 rows × 2 columns</p>\n",
              "</div>"
            ],
            "text/plain": [
              "                                              file_path  label\n",
              "1070   ./final_data/noise/HOME-KITCHEN-1_trim_5s_61.wav      0\n",
              "526                   ./final_data/marathi/127778_1.wav      1\n",
              "455                   ./final_data/marathi/128123_1.wav      1\n",
              "102                   ./final_data/marathi/127590_1.wav      1\n",
              "866      ./final_data/noise/STREET-CITY-2_trim_5s_8.wav      0\n",
              "...                                                 ...    ...\n",
              "706                   ./final_data/marathi/126877_2.wav      1\n",
              "106                   ./final_data/marathi/127827_2.wav      1\n",
              "1134  ./final_data/noise/HOME-KITCHEN-1_trim_5s_125.wav      0\n",
              "1063   ./final_data/noise/HOME-KITCHEN-1_trim_5s_54.wav      0\n",
              "564                   ./final_data/marathi/127813_2.wav      1\n",
              "\n",
              "[1318 rows x 2 columns]"
            ]
          },
          "metadata": {
            "tags": []
          },
          "execution_count": 14
        }
      ]
    },
    {
      "cell_type": "code",
      "metadata": {
        "id": "efKmDFNPqQNn"
      },
      "source": [
        "class SpeechNoiseDataset(Dataset):\n",
        "    \n",
        "    def __init__(self, dataframe):\n",
        "        self.data = dataframe\n",
        "        self.sample_rate = 16000\n",
        "\n",
        "        n_fft = 2048\n",
        "        win_length = None\n",
        "        hop_length = 512\n",
        "        n_mels = 256\n",
        "        n_mfcc = 40\n",
        "\n",
        "        self.mfcc_transform = torchaudio.transforms.MFCC(\n",
        "            sample_rate=self.sample_rate,\n",
        "            n_mfcc=n_mfcc, \n",
        "            melkwargs={'n_fft': n_fft, 'n_mels': n_mels, 'hop_length': hop_length})\n",
        "\n",
        "    def __len__(self):\n",
        "        return len(self.data)\n",
        "\n",
        "    def __getitem__(self, idx):\n",
        "        data_i = self.data.iloc[idx]\n",
        "        f_path = data_i.file_path\n",
        "        label = data_i.label\n",
        "\n",
        "        #### Uncomment the following if you want features using librosa ####\n",
        "\n",
        "        # audio, sample_rate = librosa.load(f_path, res_type='kaiser_fast') \n",
        "        # mfccs = librosa.feature.mfcc(y=audio, sr=self.sample_rate, n_mfcc=40)\n",
        "        # mfccsscaled = np.mean(mfccs.T,axis=0)\n",
        "\n",
        "\n",
        "        #### Features using torchaudio ####\n",
        "\n",
        "        audio, sample_rate = torchaudio.load(f_path)\n",
        "        mfcc_feats = self.mfcc_transform(audio).squeeze(0)\n",
        "        mfccsscaled = torch.mean(mfcc_feats.T, dim=0)\n",
        "        \n",
        "        return mfccsscaled, label\n"
      ],
      "execution_count": null,
      "outputs": []
    },
    {
      "cell_type": "code",
      "metadata": {
        "id": "k5gdxP09zWYA"
      },
      "source": [
        "batch_size = 8\n",
        "# train_dataset = SpeechNoiseDataset(train_data)\n",
        "# train_dataloader = DataLoader(train_dataset, batch_size=batch_size)\n",
        "\n",
        "# test_dataset = SpeechNoiseDataset(test_data)\n",
        "# test_dataloader = DataLoader(test_dataset, batch_size=batch_size)\n",
        "\n",
        "test_dataset = SpeechNoiseDataset(data)\n",
        "test_dataloader = DataLoader(test_dataset, batch_size=batch_size)"
      ],
      "execution_count": null,
      "outputs": []
    },
    {
      "cell_type": "code",
      "metadata": {
        "colab": {
          "base_uri": "https://localhost:8080/"
        },
        "id": "rIKhhr9MTATP",
        "outputId": "099a30e8-fceb-424c-a143-1af4494a5efa"
      },
      "source": [
        "test_dataloader"
      ],
      "execution_count": null,
      "outputs": [
        {
          "output_type": "execute_result",
          "data": {
            "text/plain": [
              "<torch.utils.data.dataloader.DataLoader at 0x7f9aba198ed0>"
            ]
          },
          "metadata": {
            "tags": []
          },
          "execution_count": 17
        }
      ]
    },
    {
      "cell_type": "code",
      "metadata": {
        "colab": {
          "base_uri": "https://localhost:8080/"
        },
        "id": "prkIDpI_zeKP",
        "outputId": "93512878-93a2-40c6-d2e0-4ac8f1bb1ea5"
      },
      "source": [
        "for features, labels in test_dataloader:\n",
        "  break\n",
        "\n",
        "print(features.shape)\n",
        "print(labels.shape)"
      ],
      "execution_count": null,
      "outputs": [
        {
          "output_type": "stream",
          "text": [
            "torch.Size([8, 40])\n",
            "torch.Size([8])\n"
          ],
          "name": "stdout"
        }
      ]
    },
    {
      "cell_type": "code",
      "metadata": {
        "id": "bEsx5riK1zwC",
        "colab": {
          "base_uri": "https://localhost:8080/",
          "height": 279
        },
        "outputId": "a305bb7a-6374-42e4-d711-dec378cb8678"
      },
      "source": [
        "# Class: Engine Idling \n",
        "\n",
        "import matplotlib.pyplot as plt\n",
        "import librosa.display\n",
        "filename = 'final_data/marathi/126842_1.wav'\n",
        "plt.figure(figsize=(12,4))\n",
        "data,sample_rate = librosa.load(filename)\n",
        "_ = librosa.display.waveplot(data,sr=sample_rate)\n",
        "#ipd.Audio(filename)"
      ],
      "execution_count": null,
      "outputs": [
        {
          "output_type": "display_data",
          "data": {
            "image/png": "[encoded data removed]",
            "text/plain": [
              "<Figure size 864x288 with 1 Axes>"
            ]
          },
          "metadata": {
            "tags": [],
            "needs_background": "light"
          }
        }
      ]
    },
    {
      "cell_type": "code",
      "metadata": {
        "colab": {
          "base_uri": "https://localhost:8080/",
          "height": 279
        },
        "id": "rFcHVW-sbXM-",
        "outputId": "a7f39ce3-64a8-4879-a517-7c319b6549f5"
      },
      "source": [
        "import matplotlib.pyplot as plt\n",
        "import librosa.display\n",
        "filename = 'final_data/noise/HOME-LIVINGB-2_trim_5s_142.wav'\n",
        "plt.figure(figsize=(12,4))\n",
        "data,sample_rate = librosa.load(filename)\n",
        "_ = librosa.display.waveplot(data,sr=sample_rate)"
      ],
      "execution_count": null,
      "outputs": [
        {
          "output_type": "display_data",
          "data": {
            "image/png": "[encoded data removed]",
            "text/plain": [
              "<Figure size 864x288 with 1 Axes>"
            ]
          },
          "metadata": {
            "tags": [],
            "needs_background": "light"
          }
        }
      ]
    },
    {
      "cell_type": "code",
      "metadata": {
        "id": "E4myF3D50yq2"
      },
      "source": [
        ""
      ],
      "execution_count": null,
      "outputs": []
    }
  ]
}
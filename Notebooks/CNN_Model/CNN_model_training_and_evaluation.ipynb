{
  "nbformat": 4,
  "nbformat_minor": 0,
  "metadata": {
    "colab": {
      "name": "CNN model training and evaluation.ipynb",
      "provenance": [],
      "collapsed_sections": []
    },
    "kernelspec": {
      "display_name": "Python 3",
      "name": "python3"
    },
    "language_info": {
      "name": "python"
    }
  },
  "cells": [
    {
      "cell_type": "code",
      "metadata": {
        "colab": {
          "base_uri": "https://localhost:8080/"
        },
        "id": "I_BB3hO0s1uG",
        "outputId": "aba73b59-ffa7-4bc1-80fd-0bac976334d0"
      },
      "source": [
        "from google.colab import drive\n",
        "drive.mount('/content/drive',force_remount=True)"
      ],
      "execution_count": null,
      "outputs": [
        {
          "output_type": "stream",
          "text": [
            "Mounted at /content/drive\n"
          ],
          "name": "stdout"
        }
      ]
    },
    {
      "cell_type": "code",
      "metadata": {
        "id": "tbdvnjcttEAe"
      },
      "source": [
        "import torch\n",
        "from torch.utils.data import Dataset, DataLoader\n",
        "import csv\n",
        "import pandas as pd\n",
        "import numpy as np\n",
        "import librosa\n",
        "import os,sys"
      ],
      "execution_count": null,
      "outputs": []
    },
    {
      "cell_type": "code",
      "metadata": {
        "id": "UZNuMlewtA84"
      },
      "source": [
        "ROOT_PATH='./drive/MyDrive/ASR_Project_Shared/'\n",
        "\n",
        "## Creating a softlink to drive root, easy for relative addressing\n",
        "\n",
        "## Guys \n",
        "\n",
        "\n",
        "\n",
        "relative_path = 'final_metadata/denoised/'\n",
        "\n",
        "train_file = 'train_metadata_speech{all_clap}_noise{all_clap+noiseclips}.csv'\n",
        "\n",
        "nb_path = './'+ train_file\n",
        "os.symlink(ROOT_PATH+relative_path+'train_metadata_speech{all_clap}_noise{all_clap+noiseclips}.csv', nb_path)\n",
        "sys.path.insert(0, nb_path) \n",
        "\n",
        "test_file_1 = 'test_metadata_speech{all_clap}_noise{qut+spam} - test_metadata_speech{all_clap}_noise{qut+spam}.csv'\n",
        "nb_path = './'+ test_file_1\n",
        "os.symlink(ROOT_PATH+relative_path+test_file_1, nb_path)\n",
        "sys.path.insert(0, nb_path)\n",
        "\n",
        "test_file_2 = 'test_metadata_speech{all_clap}_noise{all_clap+noiseclips+spam} - test_metadata_speech{all_clap}_noise{all_clap+noiseclips+spam}.csv'\n",
        "nb_path = './'+ test_file_2\n",
        "os.symlink(ROOT_PATH+relative_path+test_file_2, nb_path)\n",
        "sys.path.insert(0, nb_path)\n",
        "\n",
        "\n",
        "nb_path = './final_data'\n",
        "os.symlink(ROOT_PATH+'final_data', nb_path)\n",
        "sys.path.insert(0, nb_path) \n"
      ],
      "execution_count": null,
      "outputs": []
    },
    {
      "cell_type": "code",
      "metadata": {
        "id": "O7VTLjKJtJml"
      },
      "source": [
        "train_df = pd.read_csv(\"train_metadata_speech{all_clap}_noise{all_clap+noiseclips}.csv\")\n",
        "test_df = pd.read_csv(\"test_metadata_speech{all_clap}_noise{qut+spam} - test_metadata_speech{all_clap}_noise{qut+spam}.csv\")\n",
        "#train_df.head()"
      ],
      "execution_count": null,
      "outputs": []
    },
    {
      "cell_type": "code",
      "metadata": {
        "colab": {
          "base_uri": "https://localhost:8080/"
        },
        "id": "SRrj2qI3uBz1",
        "outputId": "b4ca9e04-4a1f-4bdc-ebbd-b88defef0c68"
      },
      "source": [
        "train_df_filtered = train_df\n",
        "test_df_filtered = test_df\n",
        "test_df_filtered.label.unique()"
      ],
      "execution_count": null,
      "outputs": [
        {
          "output_type": "execute_result",
          "data": {
            "text/plain": [
              "array([0, 1])"
            ]
          },
          "metadata": {
            "tags": []
          },
          "execution_count": 6
        }
      ]
    },
    {
      "cell_type": "code",
      "metadata": {
        "id": "YPJz1eQi4-5E"
      },
      "source": [
        "class Config(object):\n",
        "    def __init__(self,\n",
        "                 sampling_rate=16000, audio_duration=2, n_classes=10, \n",
        "                 learning_rate=0.0001, max_epochs=20, n_mfcc=40):\n",
        "        self.sampling_rate = sampling_rate\n",
        "        self.audio_duration = audio_duration\n",
        "        self.n_classes = n_classes\n",
        "        self.n_mfcc = n_mfcc\n",
        "        self.learning_rate = learning_rate\n",
        "        self.max_epochs = max_epochs\n",
        "        self.audio_length = self.sampling_rate * self.audio_duration\n",
        "        self.dim = (self.n_mfcc, 1 + int(np.floor(self.audio_length/512)), 1)\n",
        "\n",
        "\n",
        "config = Config(sampling_rate=16000, audio_duration=5, learning_rate=0.0001, n_mfcc=40, n_classes=2)\n"
      ],
      "execution_count": null,
      "outputs": []
    },
    {
      "cell_type": "code",
      "metadata": {
        "id": "KQRTWPT78S7d"
      },
      "source": [
        "# Load various imports \n",
        "import pandas as pd\n",
        "import os\n",
        "import librosa\n",
        "\n",
        "# Set the path to the full UrbanSound dataset \n",
        "#fulldatasetpath = '/Volumes/Untitled/ML_Data/Urban Sound/UrbanSound8K/audio/'\n",
        "\n",
        "metadata = pd.read_csv(train_file)\n",
        "\n",
        "x_train = np.empty(shape=(len(metadata), config.dim[0], config.dim[1], 1))\n",
        "y_train = np.empty(shape =(len(metadata)))\n",
        "input_length = config.audio_length\n",
        "\n",
        "for index, row in metadata.iterrows():\n",
        "  # if(index==100):\n",
        "  #   break\n",
        "  file_path = row['file_path']\n",
        "  class_label = row[\"label\"]\n",
        "  data, _ = librosa.core.load(file_path, sr=config.sampling_rate, res_type=\"kaiser_fast\")\n",
        "\n",
        "  # Random offset / Padding\n",
        "  if len(data) > input_length:\n",
        "      max_offset = len(data) - input_length\n",
        "      offset = np.random.randint(max_offset)\n",
        "      data = data[offset:(input_length+offset)]\n",
        "  else:\n",
        "      if input_length > len(data):\n",
        "          max_offset = input_length - len(data)\n",
        "          offset = np.random.randint(max_offset)\n",
        "      else:\n",
        "          offset = 0\n",
        "      data = np.pad(data, (offset, input_length - len(data) - offset), \"constant\")\n",
        "\n",
        "  data = librosa.feature.mfcc(data, sr=config.sampling_rate, n_mfcc=config.n_mfcc)\n",
        "  data = np.expand_dims(data, axis=-1)\n",
        "  x_train[index,] = data\n",
        "  y_train[index] = int(class_label)\n",
        "\n",
        "metadata = pd.read_csv(test_file_2)\n",
        "\n",
        "x_test = np.empty(shape=(len(metadata), config.dim[0], config.dim[1], 1))\n",
        "y_test = np.empty(shape =(len(metadata)))\n",
        "input_length = config.audio_length\n",
        "\n",
        "for index, row in metadata.iterrows():\n",
        "  # if(index==100):\n",
        "  #   break\n",
        "  file_path = row['file_path']\n",
        "  class_label = row[\"label\"]\n",
        "  data, _ = librosa.core.load(file_path, sr=config.sampling_rate, res_type=\"kaiser_fast\")\n",
        "\n",
        "  # Random offset / Padding\n",
        "  if len(data) > input_length:\n",
        "      max_offset = len(data) - input_length\n",
        "      offset = np.random.randint(max_offset)\n",
        "      data = data[offset:(input_length+offset)]\n",
        "  else:\n",
        "      if input_length > len(data):\n",
        "          max_offset = input_length - len(data)\n",
        "          offset = np.random.randint(max_offset)\n",
        "      else:\n",
        "          offset = 0\n",
        "      data = np.pad(data, (offset, input_length - len(data) - offset), \"constant\")\n",
        "\n",
        "  data = librosa.feature.mfcc(data, sr=config.sampling_rate, n_mfcc=config.n_mfcc)\n",
        "  data = np.expand_dims(data, axis=-1)\n",
        "  x_test[index,] = data\n",
        "  y_test[index] = int(class_label)\n"
      ],
      "execution_count": null,
      "outputs": []
    },
    {
      "cell_type": "code",
      "metadata": {
        "colab": {
          "base_uri": "https://localhost:8080/"
        },
        "id": "hSapHFo9ZPgE",
        "outputId": "470a654d-e078-475c-951f-916252b2a5f2"
      },
      "source": [
        "np.shape(x_train)"
      ],
      "execution_count": null,
      "outputs": [
        {
          "output_type": "execute_result",
          "data": {
            "text/plain": [
              "(3012, 40, 157, 1)"
            ]
          },
          "metadata": {
            "tags": []
          },
          "execution_count": 213
        }
      ]
    },
    {
      "cell_type": "code",
      "metadata": {
        "colab": {
          "base_uri": "https://localhost:8080/"
        },
        "id": "C51mkmy7GPUE",
        "outputId": "f8512b07-5077-4aac-dc26-d15bb519f8ca"
      },
      "source": [
        "# np.shape(featuresdf['feature'][6])\n",
        "# len(metadata)\n",
        "# Y"
      ],
      "execution_count": null,
      "outputs": [
        {
          "output_type": "execute_result",
          "data": {
            "text/plain": [
              "array([0., 0., 0., ..., 1., 1., 1.])"
            ]
          },
          "metadata": {
            "tags": []
          },
          "execution_count": 188
        }
      ]
    },
    {
      "cell_type": "code",
      "metadata": {
        "id": "0zkTWXEhEDne"
      },
      "source": [
        ""
      ],
      "execution_count": null,
      "outputs": []
    },
    {
      "cell_type": "code",
      "metadata": {
        "id": "QGKkcE6lIaXT"
      },
      "source": [
        "import pickle\n",
        "path = ROOT_PATH+relative_path\n",
        "pickle_out = open(path+ \"CNN_test_2X\"+\".pkl\",\"wb\")\n",
        "pickle.dump( x_test, pickle_out)\n",
        "pickle_out = open(path+ \"CNN_test_2Y\"+\".pkl\",\"wb\")\n",
        "pickle.dump( y_test, pickle_out)\n",
        "pickle_out = open(path+ \"CNN_train_X\"+\".pkl\",\"wb\")\n",
        "pickle.dump( x_train, pickle_out)\n",
        "pickle_out = open(path+ \"CNN_train_Y\"+\".pkl\",\"wb\")\n",
        "pickle.dump( y_train, pickle_out)\n",
        "pickle_out.close()"
      ],
      "execution_count": null,
      "outputs": []
    },
    {
      "cell_type": "code",
      "metadata": {
        "id": "g9Nhfir3G3Zd"
      },
      "source": [
        "def get_2d_conv_model(config):\n",
        "    \n",
        "    nclass = config.n_classes\n",
        "    \n",
        "    inp = Input(shape=(config.dim[0],config.dim[1],1))\n",
        "    x = Convolution2D(32, (4,4), padding=\"same\")(inp)\n",
        "    x = BatchNormalization()(x)\n",
        "    x = Activation(\"relu\")(x)\n",
        "    x = MaxPool2D()(x)\n",
        "    \n",
        "    x = Convolution2D(32*2, (4,10), padding=\"same\")(x)\n",
        "    x = BatchNormalization()(x)\n",
        "    x = Activation(\"relu\")(x)\n",
        "    x = MaxPool2D()(x)\n",
        "    \n",
        "    x = Convolution2D(32*3, (4,10), padding=\"same\")(x)\n",
        "    x = BatchNormalization()(x)\n",
        "    x = Activation(\"relu\")(x)\n",
        "    x = MaxPool2D()(x)\n",
        "    \n",
        "    x = Convolution2D(32*3, (4,10), padding=\"same\")(x)\n",
        "    x = BatchNormalization()(x)\n",
        "    x = Activation(\"relu\")(x)\n",
        "    x = MaxPool2D()(x)\n",
        "\n",
        "    x = Flatten()(x)\n",
        "    x = Dense(64)(x)\n",
        "    x = BatchNormalization()(x)\n",
        "    x = Activation(\"relu\")(x)\n",
        "    out = Dense(nclass, activation=softmax)(x)\n",
        "\n",
        "    model = models.Model(inputs=inp, outputs=out)\n",
        "    opt = optimizers.Adam(config.learning_rate)\n",
        "\n",
        "    model.compile(optimizer=opt, loss=losses.categorical_crossentropy, metrics=['acc'])\n",
        "    return model"
      ],
      "execution_count": null,
      "outputs": []
    },
    {
      "cell_type": "code",
      "metadata": {
        "colab": {
          "base_uri": "https://localhost:8080/"
        },
        "id": "ch0TKEynSreg",
        "outputId": "be5d8a3a-60f9-4a46-f0ac-7772314b0fc7"
      },
      "source": [
        "# np.shape(featuresdf['feature'][9])"
      ],
      "execution_count": null,
      "outputs": [
        {
          "output_type": "execute_result",
          "data": {
            "text/plain": [
              "(40, 97, 1)"
            ]
          },
          "metadata": {
            "tags": []
          },
          "execution_count": 152
        }
      ]
    },
    {
      "cell_type": "code",
      "metadata": {
        "id": "j3QWnEffSlQQ"
      },
      "source": [
        "# import pickle\n",
        "# #featuresdf =  pickle.load( open( \"metadata_multi_clap_noise_marathi_bingte2.csv.pkl\", \"rb\" ) )\n",
        "# #featuresdf = featuresdf.sample(frac=1).reset_index(drop=True)\n",
        "# #features_marathidf = pickle.load( open( \"metadata_allspeech_noisyspeech_spamfiles.csv.pkl\", \"rb\" ) )\n",
        "# #features_marathidf = features_marathidf.sample(frac=1).reset_index(drop=True)\n",
        "# from sklearn.preprocessing import LabelEncoder\n",
        "# from keras.utils import to_categorical\n",
        "\n",
        "# # Convert features and corresponding classification labels into numpy arrays\n",
        "# #X = np.array(featuresdf.feature)\n",
        "# y = Y#np.array(featuresdf.class_label)\n",
        "\n",
        "# # Encode the classification labels\n",
        "# le = LabelEncoder()\n",
        "# yy = to_categorical(le.fit_transform(y)) \n",
        "# # split the dataset \n",
        "# from sklearn.model_selection import train_test_split \n",
        "\n",
        "# x_train, x_test, y_train, y_test = train_test_split(X, yy, test_size=0.2, random_state = 42)"
      ],
      "execution_count": null,
      "outputs": []
    },
    {
      "cell_type": "code",
      "metadata": {
        "colab": {
          "base_uri": "https://localhost:8080/"
        },
        "id": "WKfpUwnKbpwI",
        "outputId": "8fc33240-f3ab-4b50-c107-8aa699ad20ea"
      },
      "source": [
        "x_train"
      ],
      "execution_count": null,
      "outputs": [
        {
          "output_type": "execute_result",
          "data": {
            "text/plain": [
              "array([[[[0.],\n",
              "         [0.],\n",
              "         [0.],\n",
              "         ...,\n",
              "         [0.],\n",
              "         [0.],\n",
              "         [0.]],\n",
              "\n",
              "        [[0.],\n",
              "         [0.],\n",
              "         [0.],\n",
              "         ...,\n",
              "         [0.],\n",
              "         [0.],\n",
              "         [0.]],\n",
              "\n",
              "        [[0.],\n",
              "         [0.],\n",
              "         [0.],\n",
              "         ...,\n",
              "         [0.],\n",
              "         [0.],\n",
              "         [0.]],\n",
              "\n",
              "        ...,\n",
              "\n",
              "        [[0.],\n",
              "         [0.],\n",
              "         [0.],\n",
              "         ...,\n",
              "         [0.],\n",
              "         [0.],\n",
              "         [0.]],\n",
              "\n",
              "        [[0.],\n",
              "         [0.],\n",
              "         [0.],\n",
              "         ...,\n",
              "         [0.],\n",
              "         [0.],\n",
              "         [0.]],\n",
              "\n",
              "        [[0.],\n",
              "         [0.],\n",
              "         [0.],\n",
              "         ...,\n",
              "         [0.],\n",
              "         [0.],\n",
              "         [0.]]],\n",
              "\n",
              "\n",
              "       [[[0.],\n",
              "         [0.],\n",
              "         [0.],\n",
              "         ...,\n",
              "         [0.],\n",
              "         [0.],\n",
              "         [0.]],\n",
              "\n",
              "        [[0.],\n",
              "         [0.],\n",
              "         [0.],\n",
              "         ...,\n",
              "         [0.],\n",
              "         [0.],\n",
              "         [0.]],\n",
              "\n",
              "        [[0.],\n",
              "         [0.],\n",
              "         [0.],\n",
              "         ...,\n",
              "         [0.],\n",
              "         [0.],\n",
              "         [0.]],\n",
              "\n",
              "        ...,\n",
              "\n",
              "        [[0.],\n",
              "         [0.],\n",
              "         [0.],\n",
              "         ...,\n",
              "         [0.],\n",
              "         [0.],\n",
              "         [0.]],\n",
              "\n",
              "        [[0.],\n",
              "         [0.],\n",
              "         [0.],\n",
              "         ...,\n",
              "         [0.],\n",
              "         [0.],\n",
              "         [0.]],\n",
              "\n",
              "        [[0.],\n",
              "         [0.],\n",
              "         [0.],\n",
              "         ...,\n",
              "         [0.],\n",
              "         [0.],\n",
              "         [0.]]],\n",
              "\n",
              "\n",
              "       [[[0.],\n",
              "         [0.],\n",
              "         [0.],\n",
              "         ...,\n",
              "         [0.],\n",
              "         [0.],\n",
              "         [0.]],\n",
              "\n",
              "        [[0.],\n",
              "         [0.],\n",
              "         [0.],\n",
              "         ...,\n",
              "         [0.],\n",
              "         [0.],\n",
              "         [0.]],\n",
              "\n",
              "        [[0.],\n",
              "         [0.],\n",
              "         [0.],\n",
              "         ...,\n",
              "         [0.],\n",
              "         [0.],\n",
              "         [0.]],\n",
              "\n",
              "        ...,\n",
              "\n",
              "        [[0.],\n",
              "         [0.],\n",
              "         [0.],\n",
              "         ...,\n",
              "         [0.],\n",
              "         [0.],\n",
              "         [0.]],\n",
              "\n",
              "        [[0.],\n",
              "         [0.],\n",
              "         [0.],\n",
              "         ...,\n",
              "         [0.],\n",
              "         [0.],\n",
              "         [0.]],\n",
              "\n",
              "        [[0.],\n",
              "         [0.],\n",
              "         [0.],\n",
              "         ...,\n",
              "         [0.],\n",
              "         [0.],\n",
              "         [0.]]],\n",
              "\n",
              "\n",
              "       ...,\n",
              "\n",
              "\n",
              "       [[[0.],\n",
              "         [0.],\n",
              "         [0.],\n",
              "         ...,\n",
              "         [0.],\n",
              "         [0.],\n",
              "         [0.]],\n",
              "\n",
              "        [[0.],\n",
              "         [0.],\n",
              "         [0.],\n",
              "         ...,\n",
              "         [0.],\n",
              "         [0.],\n",
              "         [0.]],\n",
              "\n",
              "        [[0.],\n",
              "         [0.],\n",
              "         [0.],\n",
              "         ...,\n",
              "         [0.],\n",
              "         [0.],\n",
              "         [0.]],\n",
              "\n",
              "        ...,\n",
              "\n",
              "        [[0.],\n",
              "         [0.],\n",
              "         [0.],\n",
              "         ...,\n",
              "         [0.],\n",
              "         [0.],\n",
              "         [0.]],\n",
              "\n",
              "        [[0.],\n",
              "         [0.],\n",
              "         [0.],\n",
              "         ...,\n",
              "         [0.],\n",
              "         [0.],\n",
              "         [0.]],\n",
              "\n",
              "        [[0.],\n",
              "         [0.],\n",
              "         [0.],\n",
              "         ...,\n",
              "         [0.],\n",
              "         [0.],\n",
              "         [0.]]],\n",
              "\n",
              "\n",
              "       [[[0.],\n",
              "         [0.],\n",
              "         [0.],\n",
              "         ...,\n",
              "         [0.],\n",
              "         [0.],\n",
              "         [0.]],\n",
              "\n",
              "        [[0.],\n",
              "         [0.],\n",
              "         [0.],\n",
              "         ...,\n",
              "         [0.],\n",
              "         [0.],\n",
              "         [0.]],\n",
              "\n",
              "        [[0.],\n",
              "         [0.],\n",
              "         [0.],\n",
              "         ...,\n",
              "         [0.],\n",
              "         [0.],\n",
              "         [0.]],\n",
              "\n",
              "        ...,\n",
              "\n",
              "        [[0.],\n",
              "         [0.],\n",
              "         [0.],\n",
              "         ...,\n",
              "         [0.],\n",
              "         [0.],\n",
              "         [0.]],\n",
              "\n",
              "        [[0.],\n",
              "         [0.],\n",
              "         [0.],\n",
              "         ...,\n",
              "         [0.],\n",
              "         [0.],\n",
              "         [0.]],\n",
              "\n",
              "        [[0.],\n",
              "         [0.],\n",
              "         [0.],\n",
              "         ...,\n",
              "         [0.],\n",
              "         [0.],\n",
              "         [0.]]],\n",
              "\n",
              "\n",
              "       [[[0.],\n",
              "         [0.],\n",
              "         [0.],\n",
              "         ...,\n",
              "         [0.],\n",
              "         [0.],\n",
              "         [0.]],\n",
              "\n",
              "        [[0.],\n",
              "         [0.],\n",
              "         [0.],\n",
              "         ...,\n",
              "         [0.],\n",
              "         [0.],\n",
              "         [0.]],\n",
              "\n",
              "        [[0.],\n",
              "         [0.],\n",
              "         [0.],\n",
              "         ...,\n",
              "         [0.],\n",
              "         [0.],\n",
              "         [0.]],\n",
              "\n",
              "        ...,\n",
              "\n",
              "        [[0.],\n",
              "         [0.],\n",
              "         [0.],\n",
              "         ...,\n",
              "         [0.],\n",
              "         [0.],\n",
              "         [0.]],\n",
              "\n",
              "        [[0.],\n",
              "         [0.],\n",
              "         [0.],\n",
              "         ...,\n",
              "         [0.],\n",
              "         [0.],\n",
              "         [0.]],\n",
              "\n",
              "        [[0.],\n",
              "         [0.],\n",
              "         [0.],\n",
              "         ...,\n",
              "         [0.],\n",
              "         [0.],\n",
              "         [0.]]]])"
            ]
          },
          "metadata": {
            "tags": []
          },
          "execution_count": 180
        }
      ]
    },
    {
      "cell_type": "code",
      "metadata": {
        "id": "YTVscQZpS_f4"
      },
      "source": [
        "#CNN model \n",
        "import numpy as np\n",
        "import keras\n",
        "from keras.models import Sequential\n",
        "from keras.layers import Dense, Dropout, Activation, Flatten,Input\n",
        "from keras.activations import relu, softmax\n",
        "from keras.layers import Convolution2D, MaxPooling2D , Conv2D,BatchNormalization,MaxPool2D\n",
        "from keras.optimizers import Adam\n",
        "from keras.utils import np_utils\n",
        "from sklearn import metrics \n",
        "from keras import losses, models, optimizers\n",
        "import tensorflow as tf\n",
        "from sklearn.preprocessing import LabelEncoder\n",
        "from keras.utils import to_categorical\n",
        "#Create Keras Model\n",
        "# def create_CNN_Model():\n",
        "\n",
        "#     model = Sequential()\n",
        "#     model.add(Conv2D(32, kernel_size=(3, 3), activation='relu', input_shape=(40,80,1)))\n",
        "#     model.add(Conv2D(64, kernel_size=(3, 3), activation='relu'))\n",
        "#     model.add(MaxPooling2D(pool_size=(2, 2)))\n",
        "#     model.add(Dropout(0.25))\n",
        "#     model.add(Flatten())\n",
        "#     model.add(Dense(128, activation='relu'))\n",
        "#     model.add(Dropout(0.5))\n",
        "#     model.add(Dense(2, activation='softmax'))\n",
        "\n",
        "#     model.compile(loss=keras.losses.categorical_crossentropy, optimizer=keras.optimizers.Adam(), metrics=['accuracy'])\n",
        "#     print(model.summary())\n",
        "#     [print(i.shape, i.dtype) for i in model.inputs]\n",
        "#     [print(o.shape, o.dtype) for o in model.outputs]\n",
        "#     [print(l.name, l.input_shape, l.dtype) for l in model.layers]\n",
        "#     # x_test_tf = tf.convert_to_tensor(x_test, dtype=tf.float32)\n",
        "#     # y_test_tf = tf.convert_to_tensor(y_test, dtype=tf.float32)\n",
        "#     # y_train_tf = tf.convert_to_tensor(y_train, dtype=tf.float32)\n",
        "#     # x_train_tf = tf.convert_to_tensor(x_train, dtype=tf.float32)\n",
        "#     model.fit(x_train, y_train, batch_size=4, epochs=10, verbose=1, validation_data=(x_test, y_test))\n",
        "#     #model.fit(x_train_tf, y_train_tf, batch_size=4, epochs=10, verbose=1, validation_data=(x_test_tf, y_test_tf))\n",
        "#     return model"
      ],
      "execution_count": null,
      "outputs": []
    },
    {
      "cell_type": "code",
      "metadata": {
        "id": "K11sNSkrTgdq"
      },
      "source": [
        "m = get_2d_conv_model(config) \n",
        "#m= create_CNN_Model()"
      ],
      "execution_count": null,
      "outputs": []
    },
    {
      "cell_type": "code",
      "metadata": {
        "id": "IQnMfFo1tPQX"
      },
      "source": [
        "le = LabelEncoder()\n",
        "y_train = to_categorical(le.fit_transform(y_train)) \n",
        "y_test =to_categorical(le.fit_transform(y_test)) "
      ],
      "execution_count": null,
      "outputs": []
    },
    {
      "cell_type": "code",
      "metadata": {
        "colab": {
          "base_uri": "https://localhost:8080/"
        },
        "id": "fXDmPaoVtgHC",
        "outputId": "bb821c40-c7d3-4c39-977b-ff59032a192a"
      },
      "source": [
        "y_train"
      ],
      "execution_count": null,
      "outputs": [
        {
          "output_type": "execute_result",
          "data": {
            "text/plain": [
              "array([[1., 0.],\n",
              "       [0., 1.],\n",
              "       [0., 1.],\n",
              "       ...,\n",
              "       [1., 0.],\n",
              "       [0., 1.],\n",
              "       [0., 1.]], dtype=float32)"
            ]
          },
          "metadata": {
            "tags": []
          },
          "execution_count": 42
        }
      ]
    },
    {
      "cell_type": "code",
      "metadata": {
        "colab": {
          "base_uri": "https://localhost:8080/"
        },
        "id": "JiSyf5HZa0e7",
        "outputId": "8a390619-dd21-4319-a47e-70d195d063c2"
      },
      "source": [
        "history = m.fit(x_train, y_train, \n",
        "                    validation_data=(x_test, y_test), \n",
        "                    batch_size=32,\n",
        "                    epochs=4)"
      ],
      "execution_count": null,
      "outputs": [
        {
          "output_type": "stream",
          "text": [
            "Epoch 1/4\n",
            "141/141 [==============================] - 184s 1s/step - loss: 0.0981 - acc: 0.9631 - val_loss: 0.2430 - val_acc: 0.9169\n",
            "Epoch 2/4\n",
            "141/141 [==============================] - 180s 1s/step - loss: 0.0364 - acc: 0.9879 - val_loss: 0.2126 - val_acc: 0.9102\n",
            "Epoch 3/4\n",
            "141/141 [==============================] - 180s 1s/step - loss: 0.0156 - acc: 0.9971 - val_loss: 0.1273 - val_acc: 0.9538\n",
            "Epoch 4/4\n",
            "141/141 [==============================] - 184s 1s/step - loss: 0.0194 - acc: 0.9962 - val_loss: 0.1217 - val_acc: 0.9571\n"
          ],
          "name": "stdout"
        }
      ]
    },
    {
      "cell_type": "code",
      "metadata": {
        "id": "2UF5zrJTiEyy"
      },
      "source": [
        "from sklearn.metrics import confusion_matrix\n",
        "import matplotlib.pyplot as plt\n",
        "\n",
        "def plot_confusion_matrix(y_true, y_pred, labels):\n",
        "    \"\"\"\n",
        "    plots the confusion matrix\n",
        "    \"\"\"\n",
        "    matrix = confusion_matrix(y_true, y_pred)    \n",
        "    fig, ax = plt.subplots(figsize=(4,3))\n",
        "    plt.imshow(matrix)\n",
        "    ax.set_xticks(range(len(labels)));\n",
        "    ax.set_xticklabels(labels, rotation=0)\n",
        "    ax.set_yticks(range(len(labels)));\n",
        "    ax.set_yticklabels(labels)\n",
        "    max_confusions = 0\n",
        "    confused_classes = (-1, -1)\n",
        "    for i, true_label in enumerate(matrix):\n",
        "        for j, predicted_label in enumerate(true_label):\n",
        "            text = ax.text(j, i, matrix[i, j],\n",
        "                        ha=\"center\", va=\"center\", color=\"r\");\n",
        "    plt.tick_params(axis=u'both', which=u'both',length=0)\n",
        "    plt.title(\"Confusion Matrix\");"
      ],
      "execution_count": null,
      "outputs": []
    },
    {
      "cell_type": "code",
      "metadata": {
        "colab": {
          "base_uri": "https://localhost:8080/"
        },
        "id": "UyJ7nP7Oif_v",
        "outputId": "f3b20b39-8a40-45c9-aac3-fe000712f1d0"
      },
      "source": [
        "#y_pred = (m.predict(x_test) > 0.5).astype(int)\n",
        "y_pred_ = m.predict(x_test, use_multiprocessing=True, workers=6, verbose=1)"
      ],
      "execution_count": null,
      "outputs": [
        {
          "output_type": "stream",
          "text": [
            "47/47 [==============================] - 14s 296ms/step\n"
          ],
          "name": "stdout"
        }
      ]
    },
    {
      "cell_type": "code",
      "metadata": {
        "colab": {
          "base_uri": "https://localhost:8080/",
          "height": 223
        },
        "id": "cEw8lkxBirOH",
        "outputId": "be293c24-8ad5-4104-e768-4e22029ab433"
      },
      "source": [
        "\n",
        "y_pred = np.argmax(y_pred_, axis=1)\n",
        "y_true = np.argmax(y_test, axis=1)\n",
        "#labels = []_\n",
        "labels =['spam','not spam']\n",
        "\n",
        "plot_confusion_matrix(y_true, y_pred, labels)"
      ],
      "execution_count": null,
      "outputs": [
        {
          "output_type": "display_data",
          "data": {
            "image/png": "[encoded data removed]",
            "text/plain": [
              "<Figure size 288x216 with 1 Axes>"
            ]
          },
          "metadata": {
            "tags": [],
            "needs_background": "light"
          }
        }
      ]
    }
  ]
}